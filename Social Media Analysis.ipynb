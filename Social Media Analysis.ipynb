{
 "cells": [
  {
   "cell_type": "markdown",
   "id": "0cc5e142",
   "metadata": {},
   "source": [
    "### Libraries"
   ]
  },
  {
   "cell_type": "code",
   "execution_count": 6,
   "id": "9b89b0b4",
   "metadata": {},
   "outputs": [],
   "source": [
    "import pandas as pd\n",
    "import nltk\n",
    "import preprocessor as p\n",
    "import re\n",
    "from gensim.parsing.preprocessing import remove_stopwords\n",
    "import little_mallet_wrapper\n",
    "from sklearn.feature_extraction.text import TfidfVectorizer\n",
    "from nltk.tokenize import TweetTokenizer\n",
    "from nltk.corpus import stopwords\n",
    "pd.options.display.max_colwidth = 100\n",
    "\n",
    "\n",
    "import pandas as pd\n",
    "import gensim\n",
    "from gensim import corpora\n",
    "from gensim.models import LdaModel\n",
    "from nltk.stem import SnowballStemmer\n",
    "from gensim.parsing.preprocessing import STOPWORDS\n",
    "import re\n",
    "from nltk.stem import WordNetLemmatizer\n",
    "import pyLDAvis.gensim_models as gensimvis\n",
    "import pyLDAvis\n",
    "import pickle\n",
    "import matplotlib.pyplot as plt\n",
    "from gensim.models import CoherenceModel\n",
    "\n",
    "\n",
    "\n",
    "import pandas as pd\n",
    "from sklearn.model_selection import train_test_split\n",
    "from sklearn.feature_extraction.text import CountVectorizer\n",
    "from sklearn.naive_bayes import MultinomialNB\n",
    "from sklearn.metrics import classification_report\n",
    "from sklearn.pipeline import make_pipeline\n",
    "from sklearn.preprocessing import LabelEncoder"
   ]
  },
  {
   "cell_type": "markdown",
   "id": "e8a6de89",
   "metadata": {},
   "source": [
    "### Dataset"
   ]
  },
  {
   "cell_type": "code",
   "execution_count": 8,
   "id": "41ac986f",
   "metadata": {},
   "outputs": [
    {
     "data": {
      "text/html": [
       "<div>\n",
       "<style scoped>\n",
       "    .dataframe tbody tr th:only-of-type {\n",
       "        vertical-align: middle;\n",
       "    }\n",
       "\n",
       "    .dataframe tbody tr th {\n",
       "        vertical-align: top;\n",
       "    }\n",
       "\n",
       "    .dataframe thead th {\n",
       "        text-align: right;\n",
       "    }\n",
       "</style>\n",
       "<table border=\"1\" class=\"dataframe\">\n",
       "  <thead>\n",
       "    <tr style=\"text-align: right;\">\n",
       "      <th></th>\n",
       "      <th>Sentiment</th>\n",
       "      <th>TweetId</th>\n",
       "      <th>TweetText</th>\n",
       "    </tr>\n",
       "  </thead>\n",
       "  <tbody>\n",
       "    <tr>\n",
       "      <th>0</th>\n",
       "      <td>positive</td>\n",
       "      <td>1.260000e+17</td>\n",
       "      <td>Now all @Apple has to do is get swype on the iphone and it will be crack. Iphone that is</td>\n",
       "    </tr>\n",
       "    <tr>\n",
       "      <th>1</th>\n",
       "      <td>positive</td>\n",
       "      <td>1.260000e+17</td>\n",
       "      <td>@Apple will be adding more carrier support to the iPhone 4S (just announced)</td>\n",
       "    </tr>\n",
       "    <tr>\n",
       "      <th>2</th>\n",
       "      <td>positive</td>\n",
       "      <td>1.260000e+17</td>\n",
       "      <td>Hilarious @youtube video - guy does a duet with @apple 's Siri. Pretty much sums up the love aff...</td>\n",
       "    </tr>\n",
       "    <tr>\n",
       "      <th>3</th>\n",
       "      <td>positive</td>\n",
       "      <td>1.260000e+17</td>\n",
       "      <td>@RIM you made it too easy for me to switch to @Apple iPhone. See ya!</td>\n",
       "    </tr>\n",
       "    <tr>\n",
       "      <th>4</th>\n",
       "      <td>positive</td>\n",
       "      <td>1.260000e+17</td>\n",
       "      <td>I just realized that the reason I got into twitter was ios5 thanks @apple</td>\n",
       "    </tr>\n",
       "  </tbody>\n",
       "</table>\n",
       "</div>"
      ],
      "text/plain": [
       "  Sentiment       TweetId  \\\n",
       "0  positive  1.260000e+17   \n",
       "1  positive  1.260000e+17   \n",
       "2  positive  1.260000e+17   \n",
       "3  positive  1.260000e+17   \n",
       "4  positive  1.260000e+17   \n",
       "\n",
       "                                                                                             TweetText  \n",
       "0             Now all @Apple has to do is get swype on the iphone and it will be crack. Iphone that is  \n",
       "1                         @Apple will be adding more carrier support to the iPhone 4S (just announced)  \n",
       "2  Hilarious @youtube video - guy does a duet with @apple 's Siri. Pretty much sums up the love aff...  \n",
       "3                                 @RIM you made it too easy for me to switch to @Apple iPhone. See ya!  \n",
       "4                            I just realized that the reason I got into twitter was ios5 thanks @apple  "
      ]
     },
     "execution_count": 8,
     "metadata": {},
     "output_type": "execute_result"
    }
   ],
   "source": [
    "df = pd.read_csv(\"full-corpus-training.csv\")\n",
    "df.head()"
   ]
  },
  {
   "cell_type": "markdown",
   "id": "92c73662",
   "metadata": {},
   "source": [
    "### Missing Values"
   ]
  },
  {
   "cell_type": "code",
   "execution_count": 3,
   "id": "a9bc1fda",
   "metadata": {
    "scrolled": true
   },
   "outputs": [
    {
     "data": {
      "text/plain": [
       "Sentiment    0\n",
       "TweetId      0\n",
       "TweetText    0\n",
       "dtype: int64"
      ]
     },
     "execution_count": 3,
     "metadata": {},
     "output_type": "execute_result"
    }
   ],
   "source": [
    "df.isna().sum()"
   ]
  },
  {
   "cell_type": "markdown",
   "id": "5019e3e9",
   "metadata": {},
   "source": [
    "### Preprocess the text to remove any stop words or punctuations"
   ]
  },
  {
   "cell_type": "code",
   "execution_count": null,
   "id": "4aa863f9",
   "metadata": {},
   "outputs": [],
   "source": []
  },
  {
   "cell_type": "code",
   "execution_count": null,
   "id": "5a3b8ad9",
   "metadata": {},
   "outputs": [],
   "source": []
  },
  {
   "cell_type": "code",
   "execution_count": null,
   "id": "f466e0a0",
   "metadata": {},
   "outputs": [],
   "source": []
  },
  {
   "cell_type": "code",
   "execution_count": null,
   "id": "df44a0da",
   "metadata": {},
   "outputs": [],
   "source": []
  },
  {
   "cell_type": "code",
   "execution_count": null,
   "id": "c807a357",
   "metadata": {},
   "outputs": [],
   "source": []
  },
  {
   "cell_type": "code",
   "execution_count": null,
   "id": "9ccb7f93",
   "metadata": {},
   "outputs": [],
   "source": []
  },
  {
   "cell_type": "code",
   "execution_count": 4,
   "id": "bcd4eae9",
   "metadata": {},
   "outputs": [
    {
     "data": {
      "text/plain": [
       "0                                                     [appl, swype, iphon, crack, iphon]\n",
       "1                                          [appl, add, carrier, support, iphon, announc]\n",
       "2    [hilari, youtub, video, duet, appl, siri, pretti, sum, love, affair, http, exbnqji]\n",
       "3                                                            [easi, switch, appl, iphon]\n",
       "4                                                 [realiz, reason, twitter, thank, appl]\n",
       "Name: TweetText, dtype: object"
      ]
     },
     "execution_count": 4,
     "metadata": {},
     "output_type": "execute_result"
    }
   ],
   "source": [
    "stemmer = SnowballStemmer(\"english\")\n",
    "\n",
    "def clean_text(text):\n",
    "    # deleting the special charcters\n",
    "    text = re.sub(r\"[^a-zA-Z0-9']\", ' ', text)\n",
    "    # white space normalization\n",
    "    text = re.sub(r'\\s+', ' ', text)\n",
    "    # apostroph correction\n",
    "    text = re.sub(r\"â€™\", \"'\", text)\n",
    "    text = re.sub(r\"â€œ|â€ \", '\"', text)\n",
    "    text = re.sub(r\"â€”\", \"-\", text)\n",
    "    # lowercase change\n",
    "    text = text.lower()\n",
    "    return stemmer.stem(WordNetLemmatizer().lemmatize(text, pos='v'))\n",
    "\n",
    "def cleaning(txt):\n",
    "    txt = clean_text(txt)\n",
    "    # remove stopwords, tokenize, lowercase lemmatize\n",
    "    final = []\n",
    "    for tok in gensim.utils.simple_preprocess(txt):\n",
    "        if tok not in gensim.parsing.preprocessing.STOPWORDS and len(tok) > 3:\n",
    "            final.append(clean_text(tok))\n",
    "    return final\n",
    "\n",
    "# cleaning our content column\n",
    "# combin_all['clean_content'] = combin_all['content'].apply(cleaning)\n",
    "# combin_all.head()\n",
    "\n",
    "clean_content = df['TweetText'].map(cleaning)\n",
    "clean_content.head()"
   ]
  },
  {
   "cell_type": "code",
   "execution_count": 5,
   "id": "584c08e1",
   "metadata": {},
   "outputs": [
    {
     "ename": "AttributeError",
     "evalue": "'list' object has no attribute 'lower'",
     "output_type": "error",
     "traceback": [
      "\u001b[1;31m---------------------------------------------------------------------------\u001b[0m",
      "\u001b[1;31mAttributeError\u001b[0m                            Traceback (most recent call last)",
      "Cell \u001b[1;32mIn[5], line 5\u001b[0m\n\u001b[0;32m      2\u001b[0m tfidf_vect \u001b[38;5;241m=\u001b[39m TfidfVectorizer(min_df\u001b[38;5;241m=\u001b[39m\u001b[38;5;241m5\u001b[39m, max_df\u001b[38;5;241m=\u001b[39m\u001b[38;5;241m0.8\u001b[39m)\n\u001b[0;32m      4\u001b[0m \u001b[38;5;66;03m# Fit and transform\u001b[39;00m\n\u001b[1;32m----> 5\u001b[0m matrix_tfidf \u001b[38;5;241m=\u001b[39m \u001b[43mtfidf_vect\u001b[49m\u001b[38;5;241;43m.\u001b[39;49m\u001b[43mfit_transform\u001b[49m\u001b[43m(\u001b[49m\u001b[43mclean_content\u001b[49m\u001b[43m)\u001b[49m\n\u001b[0;32m      7\u001b[0m \u001b[38;5;66;03m# Using get_feature_names_out \u001b[39;00m\n\u001b[0;32m      8\u001b[0m featureNames \u001b[38;5;241m=\u001b[39m tfidf_vect\u001b[38;5;241m.\u001b[39mget_feature_names_out()\n",
      "File \u001b[1;32m~\\anaconda3\\Lib\\site-packages\\sklearn\\feature_extraction\\text.py:2126\u001b[0m, in \u001b[0;36mTfidfVectorizer.fit_transform\u001b[1;34m(self, raw_documents, y)\u001b[0m\n\u001b[0;32m   2119\u001b[0m \u001b[38;5;28mself\u001b[39m\u001b[38;5;241m.\u001b[39m_check_params()\n\u001b[0;32m   2120\u001b[0m \u001b[38;5;28mself\u001b[39m\u001b[38;5;241m.\u001b[39m_tfidf \u001b[38;5;241m=\u001b[39m TfidfTransformer(\n\u001b[0;32m   2121\u001b[0m     norm\u001b[38;5;241m=\u001b[39m\u001b[38;5;28mself\u001b[39m\u001b[38;5;241m.\u001b[39mnorm,\n\u001b[0;32m   2122\u001b[0m     use_idf\u001b[38;5;241m=\u001b[39m\u001b[38;5;28mself\u001b[39m\u001b[38;5;241m.\u001b[39muse_idf,\n\u001b[0;32m   2123\u001b[0m     smooth_idf\u001b[38;5;241m=\u001b[39m\u001b[38;5;28mself\u001b[39m\u001b[38;5;241m.\u001b[39msmooth_idf,\n\u001b[0;32m   2124\u001b[0m     sublinear_tf\u001b[38;5;241m=\u001b[39m\u001b[38;5;28mself\u001b[39m\u001b[38;5;241m.\u001b[39msublinear_tf,\n\u001b[0;32m   2125\u001b[0m )\n\u001b[1;32m-> 2126\u001b[0m X \u001b[38;5;241m=\u001b[39m \u001b[38;5;28;43msuper\u001b[39;49m\u001b[43m(\u001b[49m\u001b[43m)\u001b[49m\u001b[38;5;241;43m.\u001b[39;49m\u001b[43mfit_transform\u001b[49m\u001b[43m(\u001b[49m\u001b[43mraw_documents\u001b[49m\u001b[43m)\u001b[49m\n\u001b[0;32m   2127\u001b[0m \u001b[38;5;28mself\u001b[39m\u001b[38;5;241m.\u001b[39m_tfidf\u001b[38;5;241m.\u001b[39mfit(X)\n\u001b[0;32m   2128\u001b[0m \u001b[38;5;66;03m# X is already a transformed view of raw_documents so\u001b[39;00m\n\u001b[0;32m   2129\u001b[0m \u001b[38;5;66;03m# we set copy to False\u001b[39;00m\n",
      "File \u001b[1;32m~\\anaconda3\\Lib\\site-packages\\sklearn\\base.py:1151\u001b[0m, in \u001b[0;36m_fit_context.<locals>.decorator.<locals>.wrapper\u001b[1;34m(estimator, *args, **kwargs)\u001b[0m\n\u001b[0;32m   1144\u001b[0m     estimator\u001b[38;5;241m.\u001b[39m_validate_params()\n\u001b[0;32m   1146\u001b[0m \u001b[38;5;28;01mwith\u001b[39;00m config_context(\n\u001b[0;32m   1147\u001b[0m     skip_parameter_validation\u001b[38;5;241m=\u001b[39m(\n\u001b[0;32m   1148\u001b[0m         prefer_skip_nested_validation \u001b[38;5;129;01mor\u001b[39;00m global_skip_validation\n\u001b[0;32m   1149\u001b[0m     )\n\u001b[0;32m   1150\u001b[0m ):\n\u001b[1;32m-> 1151\u001b[0m     \u001b[38;5;28;01mreturn\u001b[39;00m \u001b[43mfit_method\u001b[49m\u001b[43m(\u001b[49m\u001b[43mestimator\u001b[49m\u001b[43m,\u001b[49m\u001b[43m \u001b[49m\u001b[38;5;241;43m*\u001b[39;49m\u001b[43margs\u001b[49m\u001b[43m,\u001b[49m\u001b[43m \u001b[49m\u001b[38;5;241;43m*\u001b[39;49m\u001b[38;5;241;43m*\u001b[39;49m\u001b[43mkwargs\u001b[49m\u001b[43m)\u001b[49m\n",
      "File \u001b[1;32m~\\anaconda3\\Lib\\site-packages\\sklearn\\feature_extraction\\text.py:1383\u001b[0m, in \u001b[0;36mCountVectorizer.fit_transform\u001b[1;34m(self, raw_documents, y)\u001b[0m\n\u001b[0;32m   1375\u001b[0m             warnings\u001b[38;5;241m.\u001b[39mwarn(\n\u001b[0;32m   1376\u001b[0m                 \u001b[38;5;124m\"\u001b[39m\u001b[38;5;124mUpper case characters found in\u001b[39m\u001b[38;5;124m\"\u001b[39m\n\u001b[0;32m   1377\u001b[0m                 \u001b[38;5;124m\"\u001b[39m\u001b[38;5;124m vocabulary while \u001b[39m\u001b[38;5;124m'\u001b[39m\u001b[38;5;124mlowercase\u001b[39m\u001b[38;5;124m'\u001b[39m\u001b[38;5;124m\"\u001b[39m\n\u001b[0;32m   1378\u001b[0m                 \u001b[38;5;124m\"\u001b[39m\u001b[38;5;124m is True. These entries will not\u001b[39m\u001b[38;5;124m\"\u001b[39m\n\u001b[0;32m   1379\u001b[0m                 \u001b[38;5;124m\"\u001b[39m\u001b[38;5;124m be matched with any documents\u001b[39m\u001b[38;5;124m\"\u001b[39m\n\u001b[0;32m   1380\u001b[0m             )\n\u001b[0;32m   1381\u001b[0m             \u001b[38;5;28;01mbreak\u001b[39;00m\n\u001b[1;32m-> 1383\u001b[0m vocabulary, X \u001b[38;5;241m=\u001b[39m \u001b[38;5;28;43mself\u001b[39;49m\u001b[38;5;241;43m.\u001b[39;49m\u001b[43m_count_vocab\u001b[49m\u001b[43m(\u001b[49m\u001b[43mraw_documents\u001b[49m\u001b[43m,\u001b[49m\u001b[43m \u001b[49m\u001b[38;5;28;43mself\u001b[39;49m\u001b[38;5;241;43m.\u001b[39;49m\u001b[43mfixed_vocabulary_\u001b[49m\u001b[43m)\u001b[49m\n\u001b[0;32m   1385\u001b[0m \u001b[38;5;28;01mif\u001b[39;00m \u001b[38;5;28mself\u001b[39m\u001b[38;5;241m.\u001b[39mbinary:\n\u001b[0;32m   1386\u001b[0m     X\u001b[38;5;241m.\u001b[39mdata\u001b[38;5;241m.\u001b[39mfill(\u001b[38;5;241m1\u001b[39m)\n",
      "File \u001b[1;32m~\\anaconda3\\Lib\\site-packages\\sklearn\\feature_extraction\\text.py:1270\u001b[0m, in \u001b[0;36mCountVectorizer._count_vocab\u001b[1;34m(self, raw_documents, fixed_vocab)\u001b[0m\n\u001b[0;32m   1268\u001b[0m \u001b[38;5;28;01mfor\u001b[39;00m doc \u001b[38;5;129;01min\u001b[39;00m raw_documents:\n\u001b[0;32m   1269\u001b[0m     feature_counter \u001b[38;5;241m=\u001b[39m {}\n\u001b[1;32m-> 1270\u001b[0m     \u001b[38;5;28;01mfor\u001b[39;00m feature \u001b[38;5;129;01min\u001b[39;00m \u001b[43manalyze\u001b[49m\u001b[43m(\u001b[49m\u001b[43mdoc\u001b[49m\u001b[43m)\u001b[49m:\n\u001b[0;32m   1271\u001b[0m         \u001b[38;5;28;01mtry\u001b[39;00m:\n\u001b[0;32m   1272\u001b[0m             feature_idx \u001b[38;5;241m=\u001b[39m vocabulary[feature]\n",
      "File \u001b[1;32m~\\anaconda3\\Lib\\site-packages\\sklearn\\feature_extraction\\text.py:110\u001b[0m, in \u001b[0;36m_analyze\u001b[1;34m(doc, analyzer, tokenizer, ngrams, preprocessor, decoder, stop_words)\u001b[0m\n\u001b[0;32m    108\u001b[0m \u001b[38;5;28;01melse\u001b[39;00m:\n\u001b[0;32m    109\u001b[0m     \u001b[38;5;28;01mif\u001b[39;00m preprocessor \u001b[38;5;129;01mis\u001b[39;00m \u001b[38;5;129;01mnot\u001b[39;00m \u001b[38;5;28;01mNone\u001b[39;00m:\n\u001b[1;32m--> 110\u001b[0m         doc \u001b[38;5;241m=\u001b[39m \u001b[43mpreprocessor\u001b[49m\u001b[43m(\u001b[49m\u001b[43mdoc\u001b[49m\u001b[43m)\u001b[49m\n\u001b[0;32m    111\u001b[0m     \u001b[38;5;28;01mif\u001b[39;00m tokenizer \u001b[38;5;129;01mis\u001b[39;00m \u001b[38;5;129;01mnot\u001b[39;00m \u001b[38;5;28;01mNone\u001b[39;00m:\n\u001b[0;32m    112\u001b[0m         doc \u001b[38;5;241m=\u001b[39m tokenizer(doc)\n",
      "File \u001b[1;32m~\\anaconda3\\Lib\\site-packages\\sklearn\\feature_extraction\\text.py:68\u001b[0m, in \u001b[0;36m_preprocess\u001b[1;34m(doc, accent_function, lower)\u001b[0m\n\u001b[0;32m     49\u001b[0m \u001b[38;5;250m\u001b[39m\u001b[38;5;124;03m\"\"\"Chain together an optional series of text preprocessing steps to\u001b[39;00m\n\u001b[0;32m     50\u001b[0m \u001b[38;5;124;03mapply to a document.\u001b[39;00m\n\u001b[0;32m     51\u001b[0m \n\u001b[1;32m   (...)\u001b[0m\n\u001b[0;32m     65\u001b[0m \u001b[38;5;124;03m    preprocessed string\u001b[39;00m\n\u001b[0;32m     66\u001b[0m \u001b[38;5;124;03m\"\"\"\u001b[39;00m\n\u001b[0;32m     67\u001b[0m \u001b[38;5;28;01mif\u001b[39;00m lower:\n\u001b[1;32m---> 68\u001b[0m     doc \u001b[38;5;241m=\u001b[39m \u001b[43mdoc\u001b[49m\u001b[38;5;241;43m.\u001b[39;49m\u001b[43mlower\u001b[49m()\n\u001b[0;32m     69\u001b[0m \u001b[38;5;28;01mif\u001b[39;00m accent_function \u001b[38;5;129;01mis\u001b[39;00m \u001b[38;5;129;01mnot\u001b[39;00m \u001b[38;5;28;01mNone\u001b[39;00m:\n\u001b[0;32m     70\u001b[0m     doc \u001b[38;5;241m=\u001b[39m accent_function(doc)\n",
      "\u001b[1;31mAttributeError\u001b[0m: 'list' object has no attribute 'lower'"
     ]
    }
   ],
   "source": [
    "# TF IDF vectorizer with adjusted parameters\n",
    "tfidf_vect = TfidfVectorizer(min_df=5, max_df=0.8)\n",
    "\n",
    "# Fit and transform\n",
    "matrix_tfidf = tfidf_vect.fit_transform(clean_content)\n",
    "\n",
    "# Using get_feature_names_out \n",
    "featureNames = tfidf_vect.get_feature_names_out()\n",
    "\n",
    "# Data frame for our matrix_tfidf and featureNames\n",
    "df_tfidf = pd.DataFrame(data=matrix_tfidf.toarray(), columns=featureNames)\n",
    "\n",
    "# Adding up the importance scores (= TF-IDF scores) for every word.\n",
    "wordScores = df_tfidf.sum(axis=0)\n",
    "\n",
    "# Sorting words according to how much they matter in all the tweets\n",
    "# Sorting them with their overall TF-IDF scores.\n",
    "top50words = wordScores.sort_values(ascending=False).head(50)\n",
    "\n",
    "# Print top50words\n",
    "print(top50words)"
   ]
  },
  {
   "cell_type": "code",
   "execution_count": null,
   "id": "c8ebf30a",
   "metadata": {},
   "outputs": [],
   "source": []
  },
  {
   "cell_type": "code",
   "execution_count": null,
   "id": "8946f4bc",
   "metadata": {},
   "outputs": [],
   "source": []
  },
  {
   "cell_type": "code",
   "execution_count": null,
   "id": "8de39c95",
   "metadata": {},
   "outputs": [],
   "source": []
  },
  {
   "cell_type": "code",
   "execution_count": null,
   "id": "03bc8c92",
   "metadata": {},
   "outputs": [],
   "source": []
  },
  {
   "cell_type": "code",
   "execution_count": null,
   "id": "69b0b5b6",
   "metadata": {},
   "outputs": [],
   "source": []
  },
  {
   "cell_type": "code",
   "execution_count": null,
   "id": "b4873130",
   "metadata": {},
   "outputs": [],
   "source": []
  },
  {
   "cell_type": "code",
   "execution_count": null,
   "id": "1c0b6e99",
   "metadata": {},
   "outputs": [],
   "source": []
  },
  {
   "cell_type": "code",
   "execution_count": 12,
   "id": "4a3158f0",
   "metadata": {},
   "outputs": [
    {
     "name": "stdout",
     "output_type": "stream",
     "text": [
      "nexus        76.520013\n",
      "new          75.721955\n",
      "google       74.835726\n",
      "sandwich     71.907187\n",
      "cream        70.888161\n",
      "android      69.518447\n",
      "ice          69.295113\n",
      "galaxy       66.709302\n",
      "microsoft    63.651374\n",
      "iphone       61.725037\n",
      "phone        49.779924\n",
      "windows      45.086025\n",
      "ballmer      39.693813\n",
      "steve        37.951405\n",
      "por          37.942093\n",
      "app          33.567207\n",
      "store        32.940366\n",
      "samsung      31.352035\n",
      "use          29.823541\n",
      "time         29.216693\n",
      "video        28.740660\n",
      "siri         28.026507\n",
      "great        27.736946\n",
      "love         26.839693\n",
      "ios          26.261444\n",
      "one          26.017915\n",
      "good         25.890755\n",
      "apple        24.686569\n",
      "want         23.574323\n",
      "know         23.422517\n",
      "people       23.205290\n",
      "search       23.074015\n",
      "need         22.659972\n",
      "back         22.540271\n",
      "really       22.368526\n",
      "got          22.024584\n",
      "del          21.915294\n",
      "esta         21.893921\n",
      "update       21.557788\n",
      "see          20.916745\n",
      "available    20.210337\n",
      "thanks       19.322262\n",
      "ceo          19.307781\n",
      "facebook     18.979043\n",
      "would        18.573840\n",
      "apps         18.342424\n",
      "como         18.308777\n",
      "live         18.269085\n",
      "meu          18.189542\n",
      "est          18.053311\n",
      "dtype: float64\n"
     ]
    }
   ],
   "source": [
    "def preprocess_tweet(txt):\n",
    "    text = p.clean(txt)\n",
    "    return text\n",
    "\n",
    "df['cleaned_tweets'] = df['TweetText'].apply(preprocess_tweet)\n",
    "\n",
    "# common words to be removed\n",
    "common_stopwords = set(['http', 'twitter', 'www', 'like', 'get', 'go', 'lol', 'please'])\n",
    "\n",
    "def preprocess_tweet_text(tweet):\n",
    "    # Remove URLs\n",
    "    tweet = re.sub(r\"http\\S+|www\\S+|https\\S+\", \"\", tweet, flags=re.MULTILINE)\n",
    "    \n",
    "    # Tokenize the tweet using TweetTokenizer\n",
    "    tokenizer = TweetTokenizer(preserve_case=False, strip_handles=True, reduce_len=True)\n",
    "    tokens = tokenizer.tokenize(tweet)\n",
    "    \n",
    "    # Remove stop words\n",
    "    stop_words = set(stopwords.words('english'))\n",
    "    custom_stopwords = set(['rt', 'via', 'que', 'en', 'es', 'para', 'co', 'con', 'un', 'se', 'las', 'ics', 'los'])\n",
    "    stop_words.update(custom_stopwords, common_stopwords)\n",
    "    tokens = [token for token in tokens if token not in stop_words]\n",
    "    \n",
    "    tokens = [token for token in tokens if len(token) > 2]\n",
    "\n",
    "    # Remove punctuations\n",
    "    tokens = [token for token in tokens if token.isalnum()]\n",
    "    \n",
    "    # Join the cleaned tokens together as a string\n",
    "    processed_tweet = ' '.join(tokens)\n",
    "    \n",
    "    return processed_tweet\n",
    "\n",
    "# Apply the cleaning function to the TweetText column\n",
    "df['CleanedTweet'] = df['cleaned_tweets'].apply(lambda x: little_mallet_wrapper.process_string(x, numbers='remove'))\n",
    "df['CleanedTweet'] = df['CleanedTweet'].apply(preprocess_tweet_text)\n",
    "\n",
    "# TF IDF vectorizer with adjusted parameters\n",
    "tfidf_vect = TfidfVectorizer(min_df=5, max_df=0.8)\n",
    "\n",
    "# Fit and transform\n",
    "matrix_tfidf = tfidf_vect.fit_transform(df['CleanedTweet'])\n",
    "\n",
    "# Using get_feature_names_out \n",
    "featureNames = tfidf_vect.get_feature_names_out()\n",
    "\n",
    "# Data frame for our matrix_tfidf and featureNames\n",
    "df_tfidf = pd.DataFrame(data=matrix_tfidf.toarray(), columns=featureNames)\n",
    "\n",
    "# Adding up the importance scores (= TF-IDF scores) for every word.\n",
    "wordScores = df_tfidf.sum(axis=0)\n",
    "\n",
    "# Sorting words according to how much they matter in all the tweets\n",
    "# Sorting them with their overall TF-IDF scores.\n",
    "top50words = wordScores.sort_values(ascending=False).head(50)\n",
    "\n",
    "# Print top50words\n",
    "print(top50words)\n"
   ]
  },
  {
   "cell_type": "code",
   "execution_count": 6,
   "id": "2328f36a",
   "metadata": {},
   "outputs": [
    {
     "data": {
      "image/png": "[encoded data removed]",
      "text/plain": [
       "<Figure size 1200x600 with 1 Axes>"
      ]
     },
     "metadata": {},
     "output_type": "display_data"
    }
   ],
   "source": [
    "\n",
    "# Visualization of top words\n",
    "import matplotlib.pyplot as plt\n",
    "\n",
    "plt.figure(figsize=(12, 6))\n",
    "top50words.plot(kind='bar')\n",
    "plt.title('Top 50 Words and Their TF-IDF Scores')\n",
    "plt.xlabel('Words')\n",
    "plt.ylabel('TF-IDF Score')\n",
    "plt.show()\n",
    "\n"
   ]
  },
  {
   "cell_type": "code",
   "execution_count": 5,
   "id": "bcb482a9",
   "metadata": {},
   "outputs": [
    {
     "name": "stdout",
     "output_type": "stream",
     "text": [
      "  Sentiment  \\\n",
      "0  positive   \n",
      "1  positive   \n",
      "2  positive   \n",
      "3  positive   \n",
      "4  positive   \n",
      "5  positive   \n",
      "6  positive   \n",
      "7  positive   \n",
      "8  positive   \n",
      "9  positive   \n",
      "\n",
      "                                                                                       CleanedTweet  \n",
      "0                                                                   apple swype iphone crack iphone  \n",
      "1                                                     apple adding carrier support iphone announced  \n",
      "2          hilarious youtube video guy duet apple siri pretty much sums love affair http co exbnqjy  \n",
      "3                                                             rim made easy switch apple iphone see  \n",
      "4                                                      realized reason got twitter ios thanks apple  \n",
      "5                         current blackberry user little bit disappointed move android apple iphone  \n",
      "6  strangest things siri said far sooo glad apple gave siri sense humor http co twaeudbp happyplace  \n",
      "7                                             great close personal event apple tonight regent store  \n",
      "8                                     companies experience best customer service aside zappos apple  \n",
      "9                                                                         apply job apple hope call  \n"
     ]
    }
   ],
   "source": [
    "# Display the cleaned DataFrame\n",
    "print(df[['Sentiment', 'CleanedTweet']].head(10))"
   ]
  },
  {
   "cell_type": "code",
   "execution_count": 4,
   "id": "341d0ad5",
   "metadata": {},
   "outputs": [],
   "source": []
  }
 ],
 "metadata": {
  "kernelspec": {
   "display_name": "Python 3 (ipykernel)",
   "language": "python",
   "name": "python3"
  },
  "language_info": {
   "codemirror_mode": {
    "name": "ipython",
    "version": 3
   },
   "file_extension": ".py",
   "mimetype": "text/x-python",
   "name": "python",
   "nbconvert_exporter": "python",
   "pygments_lexer": "ipython3",
   "version": "3.11.5"
  }
 },
 "nbformat": 4,
 "nbformat_minor": 5
}
