{
 "cells": [
  {
   "cell_type": "markdown",
   "id": "0cc5e142",
   "metadata": {},
   "source": [
    "### Libraries"
   ]
  },
  {
   "cell_type": "code",
   "execution_count": 1,
   "id": "9b89b0b4",
   "metadata": {},
   "outputs": [],
   "source": [
    "import pandas as pd\n",
    "import nltk\n",
    "from nltk.corpus import stopwords\n",
    "from nltk.tokenize import TweetTokenizer\n",
    "from sklearn.feature_extraction.text import TfidfVectorizer\n",
    "import string\n",
    "import re"
   ]
  },
  {
   "cell_type": "markdown",
   "id": "e8a6de89",
   "metadata": {},
   "source": [
    "### Dataset"
   ]
  },
  {
   "cell_type": "code",
   "execution_count": 2,
   "id": "41ac986f",
   "metadata": {},
   "outputs": [
    {
     "data": {
      "text/html": [
       "<div>\n",
       "<style scoped>\n",
       "    .dataframe tbody tr th:only-of-type {\n",
       "        vertical-align: middle;\n",
       "    }\n",
       "\n",
       "    .dataframe tbody tr th {\n",
       "        vertical-align: top;\n",
       "    }\n",
       "\n",
       "    .dataframe thead th {\n",
       "        text-align: right;\n",
       "    }\n",
       "</style>\n",
       "<table border=\"1\" class=\"dataframe\">\n",
       "  <thead>\n",
       "    <tr style=\"text-align: right;\">\n",
       "      <th></th>\n",
       "      <th>Sentiment</th>\n",
       "      <th>TweetId</th>\n",
       "      <th>TweetText</th>\n",
       "    </tr>\n",
       "  </thead>\n",
       "  <tbody>\n",
       "    <tr>\n",
       "      <th>0</th>\n",
       "      <td>positive</td>\n",
       "      <td>1.260000e+17</td>\n",
       "      <td>Now all @Apple has to do is get swype on the i...</td>\n",
       "    </tr>\n",
       "    <tr>\n",
       "      <th>1</th>\n",
       "      <td>positive</td>\n",
       "      <td>1.260000e+17</td>\n",
       "      <td>@Apple will be adding more carrier support to ...</td>\n",
       "    </tr>\n",
       "    <tr>\n",
       "      <th>2</th>\n",
       "      <td>positive</td>\n",
       "      <td>1.260000e+17</td>\n",
       "      <td>Hilarious @youtube video - guy does a duet wit...</td>\n",
       "    </tr>\n",
       "    <tr>\n",
       "      <th>3</th>\n",
       "      <td>positive</td>\n",
       "      <td>1.260000e+17</td>\n",
       "      <td>@RIM you made it too easy for me to switch to ...</td>\n",
       "    </tr>\n",
       "    <tr>\n",
       "      <th>4</th>\n",
       "      <td>positive</td>\n",
       "      <td>1.260000e+17</td>\n",
       "      <td>I just realized that the reason I got into twi...</td>\n",
       "    </tr>\n",
       "  </tbody>\n",
       "</table>\n",
       "</div>"
      ],
      "text/plain": [
       "  Sentiment       TweetId                                          TweetText\n",
       "0  positive  1.260000e+17  Now all @Apple has to do is get swype on the i...\n",
       "1  positive  1.260000e+17  @Apple will be adding more carrier support to ...\n",
       "2  positive  1.260000e+17  Hilarious @youtube video - guy does a duet wit...\n",
       "3  positive  1.260000e+17  @RIM you made it too easy for me to switch to ...\n",
       "4  positive  1.260000e+17  I just realized that the reason I got into twi..."
      ]
     },
     "execution_count": 2,
     "metadata": {},
     "output_type": "execute_result"
    }
   ],
   "source": [
    "df = pd.read_csv(\"full-corpus-training.csv\")\n",
    "df.head()"
   ]
  },
  {
   "cell_type": "markdown",
   "id": "92c73662",
   "metadata": {},
   "source": [
    "### Missing Values"
   ]
  },
  {
   "cell_type": "code",
   "execution_count": 3,
   "id": "a9bc1fda",
   "metadata": {
    "scrolled": true
   },
   "outputs": [
    {
     "data": {
      "text/plain": [
       "Sentiment    0\n",
       "TweetId      0\n",
       "TweetText    0\n",
       "dtype: int64"
      ]
     },
     "execution_count": 3,
     "metadata": {},
     "output_type": "execute_result"
    }
   ],
   "source": [
    "df.isna().sum()"
   ]
  },
  {
   "cell_type": "markdown",
   "id": "a12d62b4",
   "metadata": {},
   "source": [
    "### Preprocess the text to remove any stop words or punctuations"
   ]
  },
  {
   "cell_type": "code",
   "execution_count": 7,
   "id": "ff7ac36f",
   "metadata": {},
   "outputs": [],
   "source": [
    "def preprocess_tweet_text(tweet):\n",
    "    # Remove URLs\n",
    "    tweet = re.sub(r\"http\\S+|www\\S+|https\\S+\", \"\", tweet, flags=re.MULTILINE)\n",
    "    \n",
    "    # Tokenize the tweet using TweetTokenizer\n",
    "    tokenizer = TweetTokenizer(preserve_case=False, strip_handles=True, reduce_len=True)\n",
    "    tokens = tokenizer.tokenize(tweet)\n",
    "    \n",
    "    # Remove stop words\n",
    "    stop_words = set(stopwords.words('english'))\n",
    "    tokens = [token for token in tokens if token not in stop_words]\n",
    "    \n",
    "    # Remove punctuations\n",
    "    tokens = [token for token in tokens if token.isalnum()]\n",
    "    \n",
    "    # joinin the cleaned tokens together as a string\n",
    "    processed_tweet = ' '.join(tokens)\n",
    "    \n",
    "    return processed_tweet\n",
    "\n",
    "# Apply the cleaning function to the TweetText column\n",
    "df['CleanedTweet'] = df['TweetText'].apply(preprocess_tweet_text)"
   ]
  },
  {
   "cell_type": "code",
   "execution_count": 6,
   "id": "6cab71aa",
   "metadata": {},
   "outputs": [
    {
     "name": "stdout",
     "output_type": "stream",
     "text": [
      "  Sentiment                                       CleanedTweet\n",
      "0  positive                      get swype iphone crack iphone\n",
      "1  positive         adding carrier support iphone 4s announced\n",
      "2  positive  hilarious video guy duet siri pretty much sums...\n",
      "3  positive                     made easy switch iphone see ya\n",
      "4  positive           realized reason got twitter ios 5 thanks\n",
      "5  positive          current user little bit disappointed move\n",
      "6  positive  16 strangest things siri said far sooo glad ga...\n",
      "7  positive  great close personal event tonight regent st s...\n",
      "8  positive   companies experience best customer service aside\n",
      "9  positive                            apply job hope call lol\n"
     ]
    }
   ],
   "source": [
    "# Display the cleaned DataFrame\n",
    "print(df[['Sentiment', 'CleanedTweet']].head(10))"
   ]
  },
  {
   "cell_type": "code",
   "execution_count": 4,
   "id": "341d0ad5",
   "metadata": {},
   "outputs": [],
   "source": []
  },
  {
   "cell_type": "markdown",
   "id": "149c9422",
   "metadata": {},
   "source": [
    "### Top 50 Words"
   ]
  },
  {
   "cell_type": "code",
   "execution_count": 8,
   "id": "1ac509b1",
   "metadata": {},
   "outputs": [
    {
     "name": "stdout",
     "output_type": "stream",
     "text": [
      "twitter             179.514795\n",
      "google              169.866767\n",
      "microsoft           145.447217\n",
      "apple               129.501805\n",
      "android             107.612097\n",
      "rt                   87.482604\n",
      "nexus                59.686031\n",
      "samsung              56.167924\n",
      "new                  47.798535\n",
      "galaxy               46.709653\n",
      "sandwich             45.805192\n",
      "en                   44.867273\n",
      "cream                44.747461\n",
      "ice                  44.448694\n",
      "iphone               42.580752\n",
      "que                  41.898920\n",
      "el                   36.836136\n",
      "ics                  35.784983\n",
      "facebook             35.629049\n",
      "windows              33.594248\n",
      "phone                32.689083\n",
      "40                   30.121356\n",
      "la                   29.115044\n",
      "like                 28.376681\n",
      "siri                 28.374197\n",
      "just                 28.152020\n",
      "icecreamsandwich     27.402011\n",
      "ballmer              26.559059\n",
      "im                   24.735075\n",
      "steve                23.292055\n",
      "galaxynexus          22.646455\n",
      "app                  22.072598\n",
      "nexusprime           19.840104\n",
      "es                   19.579177\n",
      "4s                   19.453837\n",
      "para                 18.863093\n",
      "store                18.784252\n",
      "yahoo                18.523995\n",
      "ios5                 18.205672\n",
      "time                 17.875321\n",
      "great                17.424200\n",
      "video                17.349115\n",
      "cloud                17.302612\n",
      "love                 17.182276\n",
      "search               17.105457\n",
      "ios                  16.978530\n",
      "good                 16.907976\n",
      "por                  16.515523\n",
      "se                   16.483949\n",
      "dont                 16.102614\n",
      "dtype: float64\n"
     ]
    }
   ],
   "source": [
    "# TF IDF vectorizer\n",
    "tfidf_vect = TfidfVectorizer()\n",
    "\n",
    "# Fit and transform\n",
    "matrix_tfidf = tfidf_vect.fit_transform(df['TweetText'])\n",
    "\n",
    "# using get_feature_names_out \n",
    "featureNames = tfidf_vect.get_feature_names_out()\n",
    "\n",
    "# Data frame for our matrix_tfidf and featureNames\n",
    "df_tfidf = pd.DataFrame(data=matrix_tfidf.toarray(), columns=featureNames)\n",
    "\n",
    "# Adding up the importance scores (= TF-IDF scores) for every word.\n",
    "wordScores = df_tfidf.sum(axis=0)\n",
    "\n",
    "# Sorting words according to how much they matter in all the tweets\n",
    "# Sorting them with their overall TF-IDF scores.\n",
    "top50words = wordScores.sort_values(ascending=False).head(50)\n",
    "\n",
    "# print top50words\n",
    "print(top50words)"
   ]
  },
  {
   "cell_type": "code",
   "execution_count": null,
   "id": "e9e76bf6",
   "metadata": {},
   "outputs": [],
   "source": []
  }
 ],
 "metadata": {
  "kernelspec": {
   "display_name": "Python 3 (ipykernel)",
   "language": "python",
   "name": "python3"
  },
  "language_info": {
   "codemirror_mode": {
    "name": "ipython",
    "version": 3
   },
   "file_extension": ".py",
   "mimetype": "text/x-python",
   "name": "python",
   "nbconvert_exporter": "python",
   "pygments_lexer": "ipython3",
   "version": "3.11.5"
  }
 },
 "nbformat": 4,
 "nbformat_minor": 5
}
