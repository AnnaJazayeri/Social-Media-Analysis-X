{
 "cells": [
  {
   "cell_type": "markdown",
   "id": "0cc5e142",
   "metadata": {},
   "source": [
    "### Libraries"
   ]
  },
  {
   "cell_type": "code",
   "execution_count": 2,
   "id": "9b89b0b4",
   "metadata": {},
   "outputs": [],
   "source": [
    "import pandas as pd\n",
    "from sklearn.feature_extraction.text import ENGLISH_STOP_WORDS\n",
    "from sklearn.feature_extraction.text import TfidfVectorizer\n",
    "import string"
   ]
  },
  {
   "cell_type": "markdown",
   "id": "e8a6de89",
   "metadata": {},
   "source": [
    "### Dataset"
   ]
  },
  {
   "cell_type": "code",
   "execution_count": 3,
   "id": "41ac986f",
   "metadata": {},
   "outputs": [
    {
     "data": {
      "text/html": [
       "<div>\n",
       "<style scoped>\n",
       "    .dataframe tbody tr th:only-of-type {\n",
       "        vertical-align: middle;\n",
       "    }\n",
       "\n",
       "    .dataframe tbody tr th {\n",
       "        vertical-align: top;\n",
       "    }\n",
       "\n",
       "    .dataframe thead th {\n",
       "        text-align: right;\n",
       "    }\n",
       "</style>\n",
       "<table border=\"1\" class=\"dataframe\">\n",
       "  <thead>\n",
       "    <tr style=\"text-align: right;\">\n",
       "      <th></th>\n",
       "      <th>TweetText</th>\n",
       "    </tr>\n",
       "  </thead>\n",
       "  <tbody>\n",
       "    <tr>\n",
       "      <th>0</th>\n",
       "      <td>Now all @Apple has to do is get swype on the i...</td>\n",
       "    </tr>\n",
       "    <tr>\n",
       "      <th>1</th>\n",
       "      <td>@Apple will be adding more carrier support to ...</td>\n",
       "    </tr>\n",
       "    <tr>\n",
       "      <th>2</th>\n",
       "      <td>Hilarious @youtube video - guy does a duet wit...</td>\n",
       "    </tr>\n",
       "    <tr>\n",
       "      <th>3</th>\n",
       "      <td>@RIM you made it too easy for me to switch to ...</td>\n",
       "    </tr>\n",
       "    <tr>\n",
       "      <th>4</th>\n",
       "      <td>I just realized that the reason I got into twi...</td>\n",
       "    </tr>\n",
       "  </tbody>\n",
       "</table>\n",
       "</div>"
      ],
      "text/plain": [
       "                                           TweetText\n",
       "0  Now all @Apple has to do is get swype on the i...\n",
       "1  @Apple will be adding more carrier support to ...\n",
       "2  Hilarious @youtube video - guy does a duet wit...\n",
       "3  @RIM you made it too easy for me to switch to ...\n",
       "4  I just realized that the reason I got into twi..."
      ]
     },
     "execution_count": 3,
     "metadata": {},
     "output_type": "execute_result"
    }
   ],
   "source": [
    "df = pd.read_csv(\"corpus.csv\")\n",
    "df.head()"
   ]
  },
  {
   "cell_type": "markdown",
   "id": "92c73662",
   "metadata": {},
   "source": [
    "### Missing Values"
   ]
  },
  {
   "cell_type": "code",
   "execution_count": 5,
   "id": "a9bc1fda",
   "metadata": {},
   "outputs": [
    {
     "data": {
      "text/plain": [
       "TweetText    0\n",
       "dtype: int64"
      ]
     },
     "execution_count": 5,
     "metadata": {},
     "output_type": "execute_result"
    }
   ],
   "source": [
    "df.isna().sum()"
   ]
  },
  {
   "cell_type": "markdown",
   "id": "01883b7d",
   "metadata": {},
   "source": [
    "### Cleaning data"
   ]
  },
  {
   "cell_type": "code",
   "execution_count": 7,
   "id": "341d0ad5",
   "metadata": {},
   "outputs": [
    {
     "data": {
      "text/html": [
       "<div>\n",
       "<style scoped>\n",
       "    .dataframe tbody tr th:only-of-type {\n",
       "        vertical-align: middle;\n",
       "    }\n",
       "\n",
       "    .dataframe tbody tr th {\n",
       "        vertical-align: top;\n",
       "    }\n",
       "\n",
       "    .dataframe thead th {\n",
       "        text-align: right;\n",
       "    }\n",
       "</style>\n",
       "<table border=\"1\" class=\"dataframe\">\n",
       "  <thead>\n",
       "    <tr style=\"text-align: right;\">\n",
       "      <th></th>\n",
       "      <th>TweetText</th>\n",
       "    </tr>\n",
       "  </thead>\n",
       "  <tbody>\n",
       "    <tr>\n",
       "      <th>0</th>\n",
       "      <td>apple swype iphone crack iphone</td>\n",
       "    </tr>\n",
       "    <tr>\n",
       "      <th>1</th>\n",
       "      <td>apple adding carrier support iphone 4s just an...</td>\n",
       "    </tr>\n",
       "    <tr>\n",
       "      <th>2</th>\n",
       "      <td>hilarious youtube video guy does duet apple s ...</td>\n",
       "    </tr>\n",
       "    <tr>\n",
       "      <th>3</th>\n",
       "      <td>rim easy switch apple iphone ya</td>\n",
       "    </tr>\n",
       "    <tr>\n",
       "      <th>4</th>\n",
       "      <td>just realized reason got twitter ios5 thanks a...</td>\n",
       "    </tr>\n",
       "  </tbody>\n",
       "</table>\n",
       "</div>"
      ],
      "text/plain": [
       "                                           TweetText\n",
       "0                    apple swype iphone crack iphone\n",
       "1  apple adding carrier support iphone 4s just an...\n",
       "2  hilarious youtube video guy does duet apple s ...\n",
       "3                    rim easy switch apple iphone ya\n",
       "4  just realized reason got twitter ios5 thanks a..."
      ]
     },
     "execution_count": 7,
     "metadata": {},
     "output_type": "execute_result"
    }
   ],
   "source": [
    "# function for cleaning\n",
    "def cleaning(txt):\n",
    "    # lowercase\n",
    "    txt = txt.lower()\n",
    "    # punctuation removal\n",
    "    txt = ''.join([char for char in txt if char not in string.punctuation])\n",
    "    # stop words removal\n",
    "    txt = ' '.join([word for word in txt.split() if word not in ENGLISH_STOP_WORDS])\n",
    "    return txt\n",
    "\n",
    "df['TweetText'] = df['TweetText'].apply(cleaning)\n",
    "df.head()"
   ]
  },
  {
   "cell_type": "markdown",
   "id": "149c9422",
   "metadata": {},
   "source": [
    "### Top 50 Words"
   ]
  },
  {
   "cell_type": "code",
   "execution_count": 8,
   "id": "1ac509b1",
   "metadata": {},
   "outputs": [
    {
     "name": "stdout",
     "output_type": "stream",
     "text": [
      "twitter             179.514795\n",
      "google              169.866767\n",
      "microsoft           145.447217\n",
      "apple               129.501805\n",
      "android             107.612097\n",
      "rt                   87.482604\n",
      "nexus                59.686031\n",
      "samsung              56.167924\n",
      "new                  47.798535\n",
      "galaxy               46.709653\n",
      "sandwich             45.805192\n",
      "en                   44.867273\n",
      "cream                44.747461\n",
      "ice                  44.448694\n",
      "iphone               42.580752\n",
      "que                  41.898920\n",
      "el                   36.836136\n",
      "ics                  35.784983\n",
      "facebook             35.629049\n",
      "windows              33.594248\n",
      "phone                32.689083\n",
      "40                   30.121356\n",
      "la                   29.115044\n",
      "like                 28.376681\n",
      "siri                 28.374197\n",
      "just                 28.152020\n",
      "icecreamsandwich     27.402011\n",
      "ballmer              26.559059\n",
      "im                   24.735075\n",
      "steve                23.292055\n",
      "galaxynexus          22.646455\n",
      "app                  22.072598\n",
      "nexusprime           19.840104\n",
      "es                   19.579177\n",
      "4s                   19.453837\n",
      "para                 18.863093\n",
      "store                18.784252\n",
      "yahoo                18.523995\n",
      "ios5                 18.205672\n",
      "time                 17.875321\n",
      "great                17.424200\n",
      "video                17.349115\n",
      "cloud                17.302612\n",
      "love                 17.182276\n",
      "search               17.105457\n",
      "ios                  16.978530\n",
      "good                 16.907976\n",
      "por                  16.515523\n",
      "se                   16.483949\n",
      "dont                 16.102614\n",
      "dtype: float64\n"
     ]
    }
   ],
   "source": [
    "# TF IDF vectorizer\n",
    "tfidf_vect = TfidfVectorizer()\n",
    "\n",
    "# Fit and transform\n",
    "matrix_tfidf = tfidf_vect.fit_transform(df['TweetText'])\n",
    "\n",
    "# using get_feature_names_out \n",
    "featureNames = tfidf_vect.get_feature_names_out()\n",
    "\n",
    "# Data frame for our matrix_tfidf and featureNames\n",
    "df_tfidf = pd.DataFrame(data=matrix_tfidf.toarray(), columns=featureNames)\n",
    "\n",
    "# Adding up the importance scores (= TF-IDF scores) for every word.\n",
    "wordScores = df_tfidf.sum(axis=0)\n",
    "\n",
    "# Sorting words according to how much they matter in all the tweets\n",
    "# Sorting them with their overall TF-IDF scores.\n",
    "top50words = wordScores.sort_values(ascending=False).head(50)\n",
    "\n",
    "# print top50words\n",
    "print(top50words)"
   ]
  },
  {
   "cell_type": "code",
   "execution_count": null,
   "id": "e9e76bf6",
   "metadata": {},
   "outputs": [],
   "source": []
  }
 ],
 "metadata": {
  "kernelspec": {
   "display_name": "Python 3 (ipykernel)",
   "language": "python",
   "name": "python3"
  },
  "language_info": {
   "codemirror_mode": {
    "name": "ipython",
    "version": 3
   },
   "file_extension": ".py",
   "mimetype": "text/x-python",
   "name": "python",
   "nbconvert_exporter": "python",
   "pygments_lexer": "ipython3",
   "version": "3.11.5"
  }
 },
 "nbformat": 4,
 "nbformat_minor": 5
}
